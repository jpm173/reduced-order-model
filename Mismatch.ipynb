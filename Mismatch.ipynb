{
 "cells": [
  {
   "cell_type": "code",
   "execution_count": 1,
   "metadata": {},
   "outputs": [],
   "source": [
    "# Import libraries\n",
    "import numpy as np\n",
    "import matplotlib.pyplot as plt\n",
    "import matplotlib as mpl\n",
    "import ROM\n",
    "import lal, lalsimulation\n",
    "from itertools import combinations "
   ]
  },
  {
   "cell_type": "code",
   "execution_count": 2,
   "metadata": {},
   "outputs": [],
   "source": [
    "def generate_waveforms(\n",
    "duration,            # Length in geometric units to truncate the waveform to\n",
    "mass_1,              # Mass of primary in solar masses\n",
    "mass_2,              # Mass of secondary in solar masses\n",
    "l_max,\n",
    "modes,\n",
    "                     # To generate a waveform model in the time domain, we need to specify the binary parameters\n",
    "f_min        = 20.,  # Starting frequency\n",
    "f_ref        = 20.,  # Reference frequency\n",
    "delta_t      = 1/2048,# Sampling time (e.g. 1/2048 Hz)\n",
    "phase        = 0.0,  # Phase at reference frequency\n",
    "                     # Dimensionful spin, S_i = m^2_i * \\chi_i \n",
    "                     # Frame is defined such that \\hat{L} is pointing along \\hat{z}\n",
    "chi_1x       = 0,    # Dimensionless spin of primary in x-direction\n",
    "chi_1y       = 0,    # Dimensionless spin of primary in y-direction\n",
    "chi_1z       = 0,    # Dimensionless spin of primary in z-direction\n",
    "chi_2x       = 0,    # Dimensionless spin of secondary in x-direction\n",
    "chi_2y       = 0,    # Dimensionless spin of secondary in y-direction\n",
    "chi_2z       = 0,    # Dimensionless spin of secondary in z-direction\n",
    "inclination  = 0.5,  # Inclination of L (orbital ang. mom.) with respect to J (total ang. mom.)\n",
    "distance     = 100 * 1e6 * lal.PC_SI, # Luminosity distance in SI units\n",
    "longAscNodes = 0,\n",
    "meanPerAno   = 0,\n",
    "eccentricity = 0,\n",
    "laldict      = lal.CreateDict(), # LAL Dictionary (allows us to pass additional flags and options to the waveform generator\n",
    "verbose      = False\n",
    "):\n",
    "    hlm         = lalsimulation.SimInspiralChooseTDModes(phase,delta_t,mass_1,\n",
    "                                                    mass_2,chi_1x, chi_1y, chi_1z,\n",
    "                                                    chi_2x, chi_2y, chi_2z,\n",
    "                                                    f_min,f_ref, distance, laldict, l_max, \n",
    "                                                    lalsimulation.IMRPhenomTHM\n",
    "                                                )\n",
    "    \n",
    "    time_array = lalsimulation.SphHarmTimeSeriesGetMode(hlm, 2, 2).deltaT * np.arange(len(lalsimulation.SphHarmTimeSeriesGetMode(hlm, 2, 2).data.data))\n",
    "    hlms = lalsimulation.SphHarmTimeSeriesGetMode(hlm, 2, 2).data.data\n",
    "\n",
    "    # Sets the arrays such that the peak amplitudes line up time-wise\n",
    "    strain = np.zeros(len(hlms))\n",
    "    strain += np.abs(hlms)**2\n",
    "    t_max = time_array[np.argmax(strain)]\n",
    "    time_array -= t_max\n",
    "\n",
    "    # Geometric unit conversion and waveform truncation\n",
    "    mass_total = (mass_1 + mass_2)/lal.MSUN_SI\n",
    "    mass_ratio = mass_1/mass_2 \n",
    "    time_geom = time_array/(mass_total * lal.MTSUN_SI)\n",
    "    hlms_geom = hlms * distance / (mass_total * lal.MRSUN_SI)\n",
    "    \n",
    "    waveform_length = duration * mass_total * lal.MTSUN_SI\n",
    "    array_length = int(np.floor(waveform_length/delta_t))\n",
    "\n",
    "    time_trunc = time_geom[-array_length:]\n",
    "    hlms_trunc = hlms_geom[-array_length:]\n",
    "\n",
    "    return time_trunc, hlms_trunc"
   ]
  },
  {
   "cell_type": "code",
   "execution_count": 3,
   "metadata": {},
   "outputs": [],
   "source": [
    "# Define some parameters regarding the masses. q is a mass ratio (m1/m2)\n",
    "q = np.arange(1, 10, 0.1)\n",
    "mass_total = 50 * lal.MSUN_SI\n",
    "m_1 = (mass_total*q)/(q+1)\n",
    "m_2 = mass_total/(q+1)\n",
    "l_max = 2\n",
    "modes = [(l,m) for l in range(2,l_max+1) for m in range(-l,l+1)]\n",
    "distance = 100 * 1e6 * lal.PC_SI\n",
    "delta_t = 1/2048\n",
    "\n",
    "# Waveforms can take many modes. E.g the 2,2 mode is obtained via waveforms[x][(2,2)]\n",
    "data = [generate_waveforms(5000, m_1[i],m_2[i], l_max, modes, distance=distance, delta_t=delta_t) for i in range(len(q))]\n",
    "times, waveforms = zip(*data)\n",
    "mode_22 = np.asarray([waveforms[i] for i in range(len(waveforms))])"
   ]
  },
  {
   "cell_type": "code",
   "execution_count": 6,
   "metadata": {},
   "outputs": [
    {
     "ename": "ValueError",
     "evalue": "For C2C FFT, len(outvec) must be nbatch*size",
     "output_type": "error",
     "traceback": [
      "\u001b[0;31m---------------------------------------------------------------------------\u001b[0m",
      "\u001b[0;31mValueError\u001b[0m                                Traceback (most recent call last)",
      "Cell \u001b[0;32mIn[6], line 23\u001b[0m\n\u001b[1;32m     18\u001b[0m det_psd   \u001b[39m=\u001b[39m psd\u001b[39m.\u001b[39maLIGOLateHighSensitivityP1200087(f_len, delta_f, f_low)\n\u001b[1;32m     21\u001b[0m \u001b[39m# Note: This takes a while the first time as an FFT plan is generated\u001b[39;00m\n\u001b[1;32m     22\u001b[0m \u001b[39m# subsequent calls are much faster.\u001b[39;00m\n\u001b[0;32m---> 23\u001b[0m m, i \u001b[39m=\u001b[39m match(hpA, hpB, psd\u001b[39m=\u001b[39;49mdet_psd, low_frequency_cutoff\u001b[39m=\u001b[39;49mf_low)\n\u001b[1;32m     24\u001b[0m \u001b[39mprint\u001b[39m(m)\n",
      "File \u001b[0;32m/usr/local/lib/python3.11/site-packages/pycbc/filter/matchedfilter.py:1382\u001b[0m, in \u001b[0;36mmatch\u001b[0;34m(vec1, vec2, psd, low_frequency_cutoff, high_frequency_cutoff, v1_norm, v2_norm, subsample_interpolation, return_phase)\u001b[0m\n\u001b[1;32m   1325\u001b[0m \u001b[39mdef\u001b[39;00m \u001b[39mmatch\u001b[39m(\n\u001b[1;32m   1326\u001b[0m     vec1,\n\u001b[1;32m   1327\u001b[0m     vec2,\n\u001b[0;32m   (...)\u001b[0m\n\u001b[1;32m   1334\u001b[0m     return_phase\u001b[39m=\u001b[39m\u001b[39mFalse\u001b[39;00m,\n\u001b[1;32m   1335\u001b[0m ):\n\u001b[1;32m   1336\u001b[0m \u001b[39m    \u001b[39m\u001b[39m\"\"\"Return the match between the two TimeSeries or FrequencySeries.\u001b[39;00m\n\u001b[1;32m   1337\u001b[0m \n\u001b[1;32m   1338\u001b[0m \u001b[39m    Return the match between two waveforms. This is equivalent to the overlap\u001b[39;00m\n\u001b[0;32m   (...)\u001b[0m\n\u001b[1;32m   1379\u001b[0m \u001b[39m        Phase to rotate complex waveform to get the match, if desired.\u001b[39;00m\n\u001b[1;32m   1380\u001b[0m \u001b[39m    \"\"\"\u001b[39;00m\n\u001b[0;32m-> 1382\u001b[0m     htilde \u001b[39m=\u001b[39m make_frequency_series(vec1)\n\u001b[1;32m   1383\u001b[0m     stilde \u001b[39m=\u001b[39m make_frequency_series(vec2)\n\u001b[1;32m   1385\u001b[0m     N \u001b[39m=\u001b[39m (\u001b[39mlen\u001b[39m(htilde) \u001b[39m-\u001b[39m \u001b[39m1\u001b[39m) \u001b[39m*\u001b[39m \u001b[39m2\u001b[39m\n",
      "File \u001b[0;32m/usr/local/lib/python3.11/site-packages/pycbc/filter/matchedfilter.py:1016\u001b[0m, in \u001b[0;36mmake_frequency_series\u001b[0;34m(vec)\u001b[0m\n\u001b[1;32m   1013\u001b[0m     delta_f \u001b[39m=\u001b[39m \u001b[39m1.0\u001b[39m \u001b[39m/\u001b[39m N \u001b[39m/\u001b[39m vec\u001b[39m.\u001b[39mdelta_t\n\u001b[1;32m   1014\u001b[0m     vectilde \u001b[39m=\u001b[39m  FrequencySeries(zeros(n, dtype\u001b[39m=\u001b[39mcomplex_same_precision_as(vec)),\n\u001b[1;32m   1015\u001b[0m                                 delta_f\u001b[39m=\u001b[39mdelta_f, copy\u001b[39m=\u001b[39m\u001b[39mFalse\u001b[39;00m)\n\u001b[0;32m-> 1016\u001b[0m     fft(vec, vectilde)\n\u001b[1;32m   1017\u001b[0m     \u001b[39mreturn\u001b[39;00m vectilde\n\u001b[1;32m   1018\u001b[0m \u001b[39melse\u001b[39;00m:\n",
      "File \u001b[0;32m/usr/local/lib/python3.11/site-packages/pycbc/fft/func_api.py:48\u001b[0m, in \u001b[0;36mfft\u001b[0;34m(invec, outvec)\u001b[0m\n\u001b[1;32m     35\u001b[0m \u001b[39m\u001b[39m\u001b[39m\"\"\" Fourier transform from invec to outvec.\u001b[39;00m\n\u001b[1;32m     36\u001b[0m \n\u001b[1;32m     37\u001b[0m \u001b[39mPerform a fourier transform. The type of transform is determined\u001b[39;00m\n\u001b[0;32m   (...)\u001b[0m\n\u001b[1;32m     45\u001b[0m \u001b[39m    The output.\u001b[39;00m\n\u001b[1;32m     46\u001b[0m \u001b[39m\"\"\"\u001b[39;00m\n\u001b[1;32m     47\u001b[0m prec, itype, otype \u001b[39m=\u001b[39m _check_fft_args(invec, outvec)\n\u001b[0;32m---> 48\u001b[0m _check_fwd_args(invec, itype, outvec, otype, \u001b[39m1\u001b[39;49m, \u001b[39mNone\u001b[39;49;00m)\n\u001b[1;32m     50\u001b[0m \u001b[39m# The following line is where all the work is done:\u001b[39;00m\n\u001b[1;32m     51\u001b[0m backend \u001b[39m=\u001b[39m get_backend()\n",
      "File \u001b[0;32m/usr/local/lib/python3.11/site-packages/pycbc/fft/core.py:114\u001b[0m, in \u001b[0;36m_check_fwd_args\u001b[0;34m(invec, itype, outvec, otype, nbatch, size)\u001b[0m\n\u001b[1;32m    112\u001b[0m         \u001b[39mraise\u001b[39;00m \u001b[39mValueError\u001b[39;00m(\u001b[39m\"\u001b[39m\u001b[39mFor C2C FFT, len(invec) must be nbatch*size\u001b[39m\u001b[39m\"\u001b[39m)\n\u001b[1;32m    113\u001b[0m     \u001b[39mif\u001b[39;00m (olen\u001b[39m/\u001b[39mnbatch) \u001b[39m!=\u001b[39m size:\n\u001b[0;32m--> 114\u001b[0m         \u001b[39mraise\u001b[39;00m \u001b[39mValueError\u001b[39;00m(\u001b[39m\"\u001b[39m\u001b[39mFor C2C FFT, len(outvec) must be nbatch*size\u001b[39m\u001b[39m\"\u001b[39m)\n\u001b[1;32m    115\u001b[0m \u001b[39melif\u001b[39;00m itype \u001b[39m==\u001b[39m \u001b[39m'\u001b[39m\u001b[39mreal\u001b[39m\u001b[39m'\u001b[39m \u001b[39mand\u001b[39;00m otype \u001b[39m==\u001b[39m \u001b[39m'\u001b[39m\u001b[39mcomplex\u001b[39m\u001b[39m'\u001b[39m:\n\u001b[1;32m    116\u001b[0m     \u001b[39mif\u001b[39;00m (olen\u001b[39m/\u001b[39mnbatch) \u001b[39m!=\u001b[39m \u001b[39mint\u001b[39m(size\u001b[39m/\u001b[39m\u001b[39m2\u001b[39m \u001b[39m+\u001b[39m \u001b[39m1\u001b[39m):\n",
      "\u001b[0;31mValueError\u001b[0m: For C2C FFT, len(outvec) must be nbatch*size"
     ]
    }
   ],
   "source": [
    "from pycbc.filter import match\n",
    "from pycbc import types, fft, waveform, psd\n",
    "\n",
    "# Mismatch\n",
    "h_plus_A = mode_22[5]\n",
    "h_plus_B = mode_22[6]\n",
    "\n",
    "hpA = types.TimeSeries(h_plus_A,delta_t=delta_t)\n",
    "hpB = types.TimeSeries(h_plus_B,delta_t=delta_t)\n",
    "\n",
    "# Resize the waveforms to the same length\n",
    "tlen = max(len(hpA), len(hpB))\n",
    "\n",
    "# Generate the aLIGO ZDHP PSD\n",
    "delta_f   = 1.0 / hpA.duration\n",
    "f_len     = tlen//2 + 1\n",
    "f_low     = 20.0 \n",
    "det_psd   = psd.aLIGOLateHighSensitivityP1200087(f_len, delta_f, f_low)\n",
    "     \n",
    "\n",
    "# Note: This takes a while the first time as an FFT plan is generated\n",
    "# subsequent calls are much faster.\n",
    "m, i = match(hpA, hpB, psd=det_psd, low_frequency_cutoff=f_low)\n",
    "print(m)"
   ]
  }
 ],
 "metadata": {
  "kernelspec": {
   "display_name": "Python 3",
   "language": "python",
   "name": "python3"
  },
  "language_info": {
   "codemirror_mode": {
    "name": "ipython",
    "version": 3
   },
   "file_extension": ".py",
   "mimetype": "text/x-python",
   "name": "python",
   "nbconvert_exporter": "python",
   "pygments_lexer": "ipython3",
   "version": "3.11.2"
  },
  "orig_nbformat": 4
 },
 "nbformat": 4,
 "nbformat_minor": 2
}
